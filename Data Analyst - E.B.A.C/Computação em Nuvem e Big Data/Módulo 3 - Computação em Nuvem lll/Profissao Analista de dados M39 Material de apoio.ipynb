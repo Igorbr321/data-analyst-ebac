{
  "cells": [
    {
      "cell_type": "markdown",
      "metadata": {
        "id": "KJqp9AANOCtf"
      },
      "source": [
        "<img src=\"https://raw.githubusercontent.com/andre-marcos-perez/ebac-course-utils/main/media/logo/newebac_logo_black_half.png\" alt=\"ebac-logo\">\n",
        "\n",
        "---\n",
        "\n",
        "# **Módulo** | Computação em Nuvem III\n",
        "Caderno de **Aula**<br> \n",
        "Professor [André Perez](https://www.linkedin.com/in/andremarcosperez/)\n",
        "\n",
        "---"
      ]
    },
    {
      "cell_type": "markdown",
      "metadata": {
        "id": "d9jDtUbDOE1-"
      },
      "source": [
        "# **Tópicos**\n",
        "\n",
        "<ol type=\"1\">\n",
        "  <li>AWS EC2;</li>\n",
        "  <li>AWS SageMaker;</li>\n",
        "  <li>AWS Acesso Externo.</li>\n",
        "</ol>"
      ]
    },
    {
      "cell_type": "markdown",
      "metadata": {
        "id": "SmoHgt-lwkpD"
      },
      "source": [
        "---"
      ]
    },
    {
      "cell_type": "markdown",
      "metadata": {
        "id": "GABI6OW8OfQ2"
      },
      "source": [
        "# **Aulas**"
      ]
    },
    {
      "cell_type": "markdown",
      "metadata": {
        "id": "-Rig-cljwJdi"
      },
      "source": [
        "## 1\\. AWS EC2"
      ]
    },
    {
      "cell_type": "markdown",
      "metadata": {
        "id": "JUonSt7kxZyj"
      },
      "source": [
        "O AWS [EC2](https://aws.amazon.com/pt/ec2/) é um serviço de computação de máquinas virtuais sem servidor. Permite a criação de máquinas virtuais pré-configuradas para diversos casos de uso: processamento, armazenamento, etc. É o serviço mais antigo da AWS."
      ]
    },
    {
      "cell_type": "markdown",
      "metadata": {
        "id": "9YhdREnYxZyj"
      },
      "source": [
        "### **1.1. Funcionamento** "
      ]
    },
    {
      "cell_type": "markdown",
      "metadata": {
        "id": "VHNT6j-IxZyk"
      },
      "source": [
        " 1. Uma instância é uma máquina virtual criada;\n",
        " 1. Uma instância funciona como uma máquina comum: pode ser ligada/desligada, acessada, excluida, etc.;\n",
        " 1. Para criar uma instância, deve-se escolher o sistema operacional, tipo, rede privada, etc."
      ]
    },
    {
      "cell_type": "markdown",
      "metadata": {
        "id": "PnJI1bszxZyk"
      },
      "source": [
        "### **1.2. Preço** "
      ]
    },
    {
      "cell_type": "markdown",
      "metadata": {
        "id": "8OGjIWy9xZyk"
      },
      "source": [
        "O AWS [EC2](https://aws.amazon.com/pt/ec2/) cobra pelo tipo e pelo tempo ativo da máquina virtual. Com relação ao tempo, existem diversas formas de cobrança, a mais comum é a **sobre demanda**, na qual é cobrado pela hora em que a máquina virtual está ativa. Com relação a instância, quando mais **recursos** a máquina virtual possuir (CPU, RAM, ROM, etc.), mais caro a sua hora será. Exemplo:\n",
        "\n"
      ]
    },
    {
      "cell_type": "markdown",
      "metadata": {
        "id": "4SPFdhWpuqhs"
      },
      "source": [
        "| Instância | Uso     | CPU (GB) | RAM | Rede (Gbits) | Preço (USD/Hora) |\n",
        "| --------- | ------- | -------- | --- | ------------ | ---------------- |\n",
        "| t3.nano   | Geral   | 2        | 0.5 | 5            | 0.0084           |\n",
        "| t3.large  | Geral   | 2        | 8   | 5            | 0.1344           |\n",
        "| r5.large  | Memória | 2        | 16  | 10           | 0.2010           |"
      ]
    },
    {
      "cell_type": "markdown",
      "metadata": {
        "id": "SS2fNNnautVY"
      },
      "source": [
        "Você sempre deve consultar o preço na página *web* do serviço ([link](https://aws.amazon.com/pt/ec2/pricing/))."
      ]
    },
    {
      "cell_type": "markdown",
      "metadata": {
        "id": "V3boVORDZh78"
      },
      "source": [
        "### **1.3. Atividade** "
      ]
    },
    {
      "cell_type": "markdown",
      "metadata": {
        "id": "e-9a8ZSyGQ7V"
      },
      "source": [
        "Criar uma instância de uma máquina virtual AWS [EC2](https://aws.amazon.com/pt/ec2/) exige o conhecimento básico de redes de computador e foge do escopo desse curso. Vamos utilizar a AWS [EC2](https://aws.amazon.com/pt/ec2/) no AWS [SageMaker](https://aws.amazon.com/pt/sagemaker/)."
      ]
    },
    {
      "cell_type": "markdown",
      "metadata": {
        "id": "EvJTE2FpaGeU"
      },
      "source": [
        "## 2\\. AWS SageMaker"
      ]
    },
    {
      "cell_type": "markdown",
      "metadata": {
        "id": "ISYXZbomlb1x"
      },
      "source": [
        "O AWS [SageMaker](https://aws.amazon.com/pt/sagemaker/) é o nome de um conjunto de serviços voltados para análise/ciência de dados e aprendizado de máquina. Dentre os serviços, está o de *notebooks*, a versão da AWS do Google Colab. O serviço de *notebooks* é inspirado no famoso projeto *open source* [Jupyter](https://jupyter.org) (combinação do nome das linguagens de programação Julia, Python e R).\n",
        "\n"
      ]
    },
    {
      "cell_type": "markdown",
      "metadata": {
        "id": "lGuMKfw9B6By"
      },
      "source": [
        "> **Nota**: Diferente do Google Colab, um *notebook* do AWS [SageMaker](https://aws.amazon.com/pt/sagemaker/) é **permanente**;"
      ]
    },
    {
      "cell_type": "markdown",
      "metadata": {
        "id": "pnxYnr6flb1y"
      },
      "source": [
        "### **2.1. Funcionamento** "
      ]
    },
    {
      "cell_type": "markdown",
      "metadata": {
        "id": "NY8c3fEWlb1y"
      },
      "source": [
        "1. Para criar um *notebook*, deve-se escolher uma instância de máquina virtual AWS [EC2](https://aws.amazon.com/pt/ec2/) e uma *role* do AWS [IAM](https://aws.amazon.com/pt/iam/); \n",
        "2. Assim como AWS [EC2](https://aws.amazon.com/pt/ec2/), *notebooks* podem ser iniciados/desligados, acessados, excluídos, etc."
      ]
    },
    {
      "cell_type": "markdown",
      "metadata": {
        "id": "gwkkhy9zBisu"
      },
      "source": [
        "> **Nota**: Lembre-se sempre de **desligar** um *notebook* para não ser cobrado;"
      ]
    },
    {
      "cell_type": "markdown",
      "metadata": {
        "id": "h_7ULt6Wlb1z"
      },
      "source": [
        "### **2.2. Preço** "
      ]
    },
    {
      "cell_type": "markdown",
      "metadata": {
        "id": "J54rLu4Mlb10"
      },
      "source": [
        "O AWS [SageMaker](https://aws.amazon.com/pt/sagemaker/) cobra um preço diferente por serviço. O preço do serviço de *notebooks* é o preço da hora da instância da máquina virtual do AWS [EC2](https://aws.amazon.com/pt/ec2/) utilizada (otimizada para aprendizado de máquina). Você sempre deve consultar o preço na página *web* do serviço ([link](https://aws.amazon.com/pt/sagemaker/pricing/?nc=sn&loc=3))."
      ]
    },
    {
      "cell_type": "markdown",
      "metadata": {
        "id": "oA6uhSthxAfi"
      },
      "source": [
        "### **2.3. Atividade** "
      ]
    },
    {
      "cell_type": "markdown",
      "metadata": {
        "id": "vBIT5n-3xAfj"
      },
      "source": [
        " - Criar um *bucket* no AWS [S3](https://aws.amazon.com/pt/s3/);\n",
        " - Fazer o *upload* de um objeto no *bucket* do AWS [S3](https://aws.amazon.com/pt/s3/);\n",
        " - Criar um *notebook* no AWS [SageMaker](https://aws.amazon.com/pt/sagemaker/);\n",
        " - Carregar o objeto do *bucket* do AWS [S3](https://aws.amazon.com/pt/s3/) no *notebook*;\n",
        " - Desligar a instância do AWS [EC2](https://aws.amazon.com/pt/ec2/) do *notebook*."
      ]
    },
    {
      "cell_type": "markdown",
      "metadata": {
        "id": "P2QuQvRbEmJA"
      },
      "source": [
        "Objeto para o *bucket*."
      ]
    },
    {
      "cell_type": "code",
      "execution_count": 1,
      "metadata": {
        "id": "_wPUVkkWDMBt"
      },
      "outputs": [
        {
          "name": "stdout",
          "output_type": "stream",
          "text": [
            "Writing cotacao.csv\n"
          ]
        }
      ],
      "source": [
        "%%writefile cotacao.csv\n",
        "date,usd,eur,gbp\n",
        "2021-01-21,5.4582,6.1896,7.3980\n",
        "2021-01-20,5.4191,6.1290,7.3673\n",
        "2021-01-19,5.4383,6.1676,7.3994\n",
        "2021-01-18,5.5666,6.3042,7.5672\n"
      ]
    },
    {
      "cell_type": "markdown",
      "metadata": {
        "id": "uL1NxjOlEtNI"
      },
      "source": [
        "Código de leitura."
      ]
    },
    {
      "cell_type": "code",
      "execution_count": null,
      "metadata": {
        "id": "jUwKmaHIDIBh"
      },
      "outputs": [],
      "source": [
        "import boto3\n",
        "import pandas as pd\n",
        "\n",
        "BUCKET = '<bucket-name>'\n",
        "\n",
        "df = pd.read_csv(f's3://{BUCKET}/cotacao.csv')\n",
        "df.head()"
      ]
    },
    {
      "cell_type": "markdown",
      "metadata": {
        "id": "oVejInuPakz5"
      },
      "source": [
        "## 3\\. AWS Acesso Externo"
      ]
    },
    {
      "cell_type": "markdown",
      "metadata": {
        "id": "CZbuPphXakz7"
      },
      "source": [
        "Para interagir externamente com os serviços da AWS, basta criar um usuário de acesso programático. O usuário é identificado por uma credencial do tipo chave-valor."
      ]
    },
    {
      "cell_type": "markdown",
      "metadata": {
        "id": "SadRMFFVjAY1"
      },
      "source": [
        "### **3.1. Atividade** "
      ]
    },
    {
      "cell_type": "markdown",
      "metadata": {
        "id": "N2j-pN5VjAY3"
      },
      "source": [
        "1. No AWS [IAM](https://aws.amazon.com/pt/iam/), criar um usuário programático;\n",
        "2. Adicionar política de leitura em *buckets* do AWS [S3](https://aws.amazon.com/pt/s3/);\n",
        "3. Salvar a credencial em um arquivo CSV."
      ]
    },
    {
      "cell_type": "markdown",
      "metadata": {
        "id": "0dOpCOukQX7y"
      },
      "source": [
        " > **Nota**: Tome um cuidado especial com as permissões concedidas ao usuário externo. "
      ]
    },
    {
      "cell_type": "markdown",
      "metadata": {
        "id": "cwb-ODfiRmIX"
      },
      "source": [
        " - Instalar o `boto3`"
      ]
    },
    {
      "cell_type": "code",
      "execution_count": 2,
      "metadata": {
        "id": "Ui2kGQHWNHKy"
      },
      "outputs": [
        {
          "name": "stdout",
          "output_type": "stream",
          "text": [
            "Requirement already satisfied: boto3 in c:\\users\\igor matheus\\appdata\\local\\programs\\python\\python312\\lib\\site-packages (1.35.41)\n",
            "Requirement already satisfied: botocore<1.36.0,>=1.35.41 in c:\\users\\igor matheus\\appdata\\local\\programs\\python\\python312\\lib\\site-packages (from boto3) (1.35.41)\n",
            "Requirement already satisfied: jmespath<2.0.0,>=0.7.1 in c:\\users\\igor matheus\\appdata\\local\\programs\\python\\python312\\lib\\site-packages (from boto3) (1.0.1)\n",
            "Requirement already satisfied: s3transfer<0.11.0,>=0.10.0 in c:\\users\\igor matheus\\appdata\\local\\programs\\python\\python312\\lib\\site-packages (from boto3) (0.10.3)\n",
            "Requirement already satisfied: python-dateutil<3.0.0,>=2.1 in c:\\users\\igor matheus\\appdata\\roaming\\python\\python312\\site-packages (from botocore<1.36.0,>=1.35.41->boto3) (2.9.0.post0)\n",
            "Requirement already satisfied: urllib3!=2.2.0,<3,>=1.25.4 in c:\\users\\igor matheus\\appdata\\local\\programs\\python\\python312\\lib\\site-packages (from botocore<1.36.0,>=1.35.41->boto3) (2.2.1)\n",
            "Requirement already satisfied: six>=1.5 in c:\\users\\igor matheus\\appdata\\roaming\\python\\python312\\site-packages (from python-dateutil<3.0.0,>=2.1->botocore<1.36.0,>=1.35.41->boto3) (1.16.0)\n"
          ]
        }
      ],
      "source": [
        "!pip install boto3"
      ]
    },
    {
      "cell_type": "markdown",
      "metadata": {
        "id": "Ic1-49FOR0AP"
      },
      "source": [
        "- Configurar as credenciais"
      ]
    },
    {
      "cell_type": "code",
      "execution_count": 3,
      "metadata": {
        "id": "IbQzqcfQLoN0"
      },
      "outputs": [],
      "source": [
        "from getpass import getpass\n",
        "\n",
        "aws_access_key_id = getpass()"
      ]
    },
    {
      "cell_type": "code",
      "execution_count": 4,
      "metadata": {
        "id": "UGfBhCoEM0oa"
      },
      "outputs": [],
      "source": [
        "from getpass import getpass\n",
        "\n",
        "aws_secret_access_key = getpass()"
      ]
    },
    {
      "cell_type": "code",
      "execution_count": 5,
      "metadata": {
        "id": "dR0sRsllOSf7"
      },
      "outputs": [],
      "source": [
        "import boto3\n",
        "import pandas as pd\n",
        "\n",
        "client = boto3.client('s3', aws_access_key_id=aws_access_key_id, aws_secret_access_key=aws_secret_access_key)"
      ]
    },
    {
      "cell_type": "code",
      "execution_count": 6,
      "metadata": {
        "id": "-gnPzHvIOeAp"
      },
      "outputs": [],
      "source": [
        "BUCKET = 'ebac-igor-teste'\n",
        "\n",
        "client.download_file(BUCKET, 'cotacao.csv', 'cotacao_aws.csv')"
      ]
    },
    {
      "cell_type": "markdown",
      "metadata": {
        "id": "HiuTY_Z7R2xH"
      },
      "source": [
        " - Extrair"
      ]
    },
    {
      "cell_type": "code",
      "execution_count": 7,
      "metadata": {
        "id": "aKnEXL8-PqoM"
      },
      "outputs": [
        {
          "data": {
            "text/html": [
              "<div>\n",
              "<style scoped>\n",
              "    .dataframe tbody tr th:only-of-type {\n",
              "        vertical-align: middle;\n",
              "    }\n",
              "\n",
              "    .dataframe tbody tr th {\n",
              "        vertical-align: top;\n",
              "    }\n",
              "\n",
              "    .dataframe thead th {\n",
              "        text-align: right;\n",
              "    }\n",
              "</style>\n",
              "<table border=\"1\" class=\"dataframe\">\n",
              "  <thead>\n",
              "    <tr style=\"text-align: right;\">\n",
              "      <th></th>\n",
              "      <th>date</th>\n",
              "      <th>usd</th>\n",
              "      <th>eur</th>\n",
              "      <th>gbp</th>\n",
              "    </tr>\n",
              "  </thead>\n",
              "  <tbody>\n",
              "    <tr>\n",
              "      <th>0</th>\n",
              "      <td>2021-01-21</td>\n",
              "      <td>5.4582</td>\n",
              "      <td>6.1896</td>\n",
              "      <td>7.3980</td>\n",
              "    </tr>\n",
              "    <tr>\n",
              "      <th>1</th>\n",
              "      <td>2021-01-20</td>\n",
              "      <td>5.4191</td>\n",
              "      <td>6.1290</td>\n",
              "      <td>7.3673</td>\n",
              "    </tr>\n",
              "    <tr>\n",
              "      <th>2</th>\n",
              "      <td>2021-01-19</td>\n",
              "      <td>5.4383</td>\n",
              "      <td>6.1676</td>\n",
              "      <td>7.3994</td>\n",
              "    </tr>\n",
              "    <tr>\n",
              "      <th>3</th>\n",
              "      <td>2021-01-18</td>\n",
              "      <td>5.5666</td>\n",
              "      <td>6.3042</td>\n",
              "      <td>7.5672</td>\n",
              "    </tr>\n",
              "  </tbody>\n",
              "</table>\n",
              "</div>"
            ],
            "text/plain": [
              "         date     usd     eur     gbp\n",
              "0  2021-01-21  5.4582  6.1896  7.3980\n",
              "1  2021-01-20  5.4191  6.1290  7.3673\n",
              "2  2021-01-19  5.4383  6.1676  7.3994\n",
              "3  2021-01-18  5.5666  6.3042  7.5672"
            ]
          },
          "execution_count": 7,
          "metadata": {},
          "output_type": "execute_result"
        }
      ],
      "source": [
        "df = pd.read_csv('cotacao_aws.csv')\n",
        "df.head()"
      ]
    },
    {
      "cell_type": "markdown",
      "metadata": {
        "id": "aL5TwGtpR6H_"
      },
      "source": [
        " - Carregar"
      ]
    },
    {
      "cell_type": "code",
      "execution_count": 8,
      "metadata": {
        "id": "-84TzHelR_0j"
      },
      "outputs": [
        {
          "ename": "S3UploadFailedError",
          "evalue": "Failed to upload cotacao_aws.csv to ebac-igor-teste/cotacao_aws.csv: An error occurred (AccessDenied) when calling the PutObject operation: User: arn:aws:iam::730335586066:user/ebac-igor-teste is not authorized to perform: s3:PutObject on resource: \"arn:aws:s3:::ebac-igor-teste/cotacao_aws.csv\" because no identity-based policy allows the s3:PutObject action",
          "output_type": "error",
          "traceback": [
            "\u001b[1;31m---------------------------------------------------------------------------\u001b[0m",
            "\u001b[1;31mClientError\u001b[0m                               Traceback (most recent call last)",
            "File \u001b[1;32mc:\\Users\\Igor Matheus\\AppData\\Local\\Programs\\Python\\Python312\\Lib\\site-packages\\boto3\\s3\\transfer.py:372\u001b[0m, in \u001b[0;36mS3Transfer.upload_file\u001b[1;34m(self, filename, bucket, key, callback, extra_args)\u001b[0m\n\u001b[0;32m    371\u001b[0m \u001b[38;5;28;01mtry\u001b[39;00m:\n\u001b[1;32m--> 372\u001b[0m     \u001b[43mfuture\u001b[49m\u001b[38;5;241;43m.\u001b[39;49m\u001b[43mresult\u001b[49m\u001b[43m(\u001b[49m\u001b[43m)\u001b[49m\n\u001b[0;32m    373\u001b[0m \u001b[38;5;66;03m# If a client error was raised, add the backwards compatibility layer\u001b[39;00m\n\u001b[0;32m    374\u001b[0m \u001b[38;5;66;03m# that raises a S3UploadFailedError. These specific errors were only\u001b[39;00m\n\u001b[0;32m    375\u001b[0m \u001b[38;5;66;03m# ever thrown for upload_parts but now can be thrown for any related\u001b[39;00m\n\u001b[0;32m    376\u001b[0m \u001b[38;5;66;03m# client error.\u001b[39;00m\n",
            "File \u001b[1;32mc:\\Users\\Igor Matheus\\AppData\\Local\\Programs\\Python\\Python312\\Lib\\site-packages\\s3transfer\\futures.py:103\u001b[0m, in \u001b[0;36mTransferFuture.result\u001b[1;34m(self)\u001b[0m\n\u001b[0;32m     99\u001b[0m \u001b[38;5;28;01mtry\u001b[39;00m:\n\u001b[0;32m    100\u001b[0m     \u001b[38;5;66;03m# Usually the result() method blocks until the transfer is done,\u001b[39;00m\n\u001b[0;32m    101\u001b[0m     \u001b[38;5;66;03m# however if a KeyboardInterrupt is raised we want want to exit\u001b[39;00m\n\u001b[0;32m    102\u001b[0m     \u001b[38;5;66;03m# out of this and propagate the exception.\u001b[39;00m\n\u001b[1;32m--> 103\u001b[0m     \u001b[38;5;28;01mreturn\u001b[39;00m \u001b[38;5;28;43mself\u001b[39;49m\u001b[38;5;241;43m.\u001b[39;49m\u001b[43m_coordinator\u001b[49m\u001b[38;5;241;43m.\u001b[39;49m\u001b[43mresult\u001b[49m\u001b[43m(\u001b[49m\u001b[43m)\u001b[49m\n\u001b[0;32m    104\u001b[0m \u001b[38;5;28;01mexcept\u001b[39;00m \u001b[38;5;167;01mKeyboardInterrupt\u001b[39;00m \u001b[38;5;28;01mas\u001b[39;00m e:\n",
            "File \u001b[1;32mc:\\Users\\Igor Matheus\\AppData\\Local\\Programs\\Python\\Python312\\Lib\\site-packages\\s3transfer\\futures.py:264\u001b[0m, in \u001b[0;36mTransferCoordinator.result\u001b[1;34m(self)\u001b[0m\n\u001b[0;32m    263\u001b[0m \u001b[38;5;28;01mif\u001b[39;00m \u001b[38;5;28mself\u001b[39m\u001b[38;5;241m.\u001b[39m_exception:\n\u001b[1;32m--> 264\u001b[0m     \u001b[38;5;28;01mraise\u001b[39;00m \u001b[38;5;28mself\u001b[39m\u001b[38;5;241m.\u001b[39m_exception\n\u001b[0;32m    265\u001b[0m \u001b[38;5;28;01mreturn\u001b[39;00m \u001b[38;5;28mself\u001b[39m\u001b[38;5;241m.\u001b[39m_result\n",
            "File \u001b[1;32mc:\\Users\\Igor Matheus\\AppData\\Local\\Programs\\Python\\Python312\\Lib\\site-packages\\s3transfer\\tasks.py:135\u001b[0m, in \u001b[0;36mTask.__call__\u001b[1;34m(self)\u001b[0m\n\u001b[0;32m    134\u001b[0m     \u001b[38;5;28;01mif\u001b[39;00m \u001b[38;5;129;01mnot\u001b[39;00m \u001b[38;5;28mself\u001b[39m\u001b[38;5;241m.\u001b[39m_transfer_coordinator\u001b[38;5;241m.\u001b[39mdone():\n\u001b[1;32m--> 135\u001b[0m         \u001b[38;5;28;01mreturn\u001b[39;00m \u001b[38;5;28;43mself\u001b[39;49m\u001b[38;5;241;43m.\u001b[39;49m\u001b[43m_execute_main\u001b[49m\u001b[43m(\u001b[49m\u001b[43mkwargs\u001b[49m\u001b[43m)\u001b[49m\n\u001b[0;32m    136\u001b[0m \u001b[38;5;28;01mexcept\u001b[39;00m \u001b[38;5;167;01mException\u001b[39;00m \u001b[38;5;28;01mas\u001b[39;00m e:\n",
            "File \u001b[1;32mc:\\Users\\Igor Matheus\\AppData\\Local\\Programs\\Python\\Python312\\Lib\\site-packages\\s3transfer\\tasks.py:158\u001b[0m, in \u001b[0;36mTask._execute_main\u001b[1;34m(self, kwargs)\u001b[0m\n\u001b[0;32m    156\u001b[0m logger\u001b[38;5;241m.\u001b[39mdebug(\u001b[38;5;124mf\u001b[39m\u001b[38;5;124m\"\u001b[39m\u001b[38;5;124mExecuting task \u001b[39m\u001b[38;5;132;01m{\u001b[39;00m\u001b[38;5;28mself\u001b[39m\u001b[38;5;132;01m}\u001b[39;00m\u001b[38;5;124m with kwargs \u001b[39m\u001b[38;5;132;01m{\u001b[39;00mkwargs_to_display\u001b[38;5;132;01m}\u001b[39;00m\u001b[38;5;124m\"\u001b[39m)\n\u001b[1;32m--> 158\u001b[0m return_value \u001b[38;5;241m=\u001b[39m \u001b[38;5;28;43mself\u001b[39;49m\u001b[38;5;241;43m.\u001b[39;49m\u001b[43m_main\u001b[49m\u001b[43m(\u001b[49m\u001b[38;5;241;43m*\u001b[39;49m\u001b[38;5;241;43m*\u001b[39;49m\u001b[43mkwargs\u001b[49m\u001b[43m)\u001b[49m\n\u001b[0;32m    159\u001b[0m \u001b[38;5;66;03m# If the task is the final task, then set the TransferFuture's\u001b[39;00m\n\u001b[0;32m    160\u001b[0m \u001b[38;5;66;03m# value to the return value from main().\u001b[39;00m\n",
            "File \u001b[1;32mc:\\Users\\Igor Matheus\\AppData\\Local\\Programs\\Python\\Python312\\Lib\\site-packages\\s3transfer\\upload.py:762\u001b[0m, in \u001b[0;36mPutObjectTask._main\u001b[1;34m(self, client, fileobj, bucket, key, extra_args)\u001b[0m\n\u001b[0;32m    761\u001b[0m \u001b[38;5;28;01mwith\u001b[39;00m fileobj \u001b[38;5;28;01mas\u001b[39;00m body:\n\u001b[1;32m--> 762\u001b[0m     \u001b[43mclient\u001b[49m\u001b[38;5;241;43m.\u001b[39;49m\u001b[43mput_object\u001b[49m\u001b[43m(\u001b[49m\u001b[43mBucket\u001b[49m\u001b[38;5;241;43m=\u001b[39;49m\u001b[43mbucket\u001b[49m\u001b[43m,\u001b[49m\u001b[43m \u001b[49m\u001b[43mKey\u001b[49m\u001b[38;5;241;43m=\u001b[39;49m\u001b[43mkey\u001b[49m\u001b[43m,\u001b[49m\u001b[43m \u001b[49m\u001b[43mBody\u001b[49m\u001b[38;5;241;43m=\u001b[39;49m\u001b[43mbody\u001b[49m\u001b[43m,\u001b[49m\u001b[43m \u001b[49m\u001b[38;5;241;43m*\u001b[39;49m\u001b[38;5;241;43m*\u001b[39;49m\u001b[43mextra_args\u001b[49m\u001b[43m)\u001b[49m\n",
            "File \u001b[1;32mc:\\Users\\Igor Matheus\\AppData\\Local\\Programs\\Python\\Python312\\Lib\\site-packages\\botocore\\client.py:569\u001b[0m, in \u001b[0;36mClientCreator._create_api_method.<locals>._api_call\u001b[1;34m(self, *args, **kwargs)\u001b[0m\n\u001b[0;32m    568\u001b[0m \u001b[38;5;66;03m# The \"self\" in this scope is referring to the BaseClient.\u001b[39;00m\n\u001b[1;32m--> 569\u001b[0m \u001b[38;5;28;01mreturn\u001b[39;00m \u001b[38;5;28;43mself\u001b[39;49m\u001b[38;5;241;43m.\u001b[39;49m\u001b[43m_make_api_call\u001b[49m\u001b[43m(\u001b[49m\u001b[43moperation_name\u001b[49m\u001b[43m,\u001b[49m\u001b[43m \u001b[49m\u001b[43mkwargs\u001b[49m\u001b[43m)\u001b[49m\n",
            "File \u001b[1;32mc:\\Users\\Igor Matheus\\AppData\\Local\\Programs\\Python\\Python312\\Lib\\site-packages\\botocore\\client.py:1023\u001b[0m, in \u001b[0;36mBaseClient._make_api_call\u001b[1;34m(self, operation_name, api_params)\u001b[0m\n\u001b[0;32m   1022\u001b[0m     error_class \u001b[38;5;241m=\u001b[39m \u001b[38;5;28mself\u001b[39m\u001b[38;5;241m.\u001b[39mexceptions\u001b[38;5;241m.\u001b[39mfrom_code(error_code)\n\u001b[1;32m-> 1023\u001b[0m     \u001b[38;5;28;01mraise\u001b[39;00m error_class(parsed_response, operation_name)\n\u001b[0;32m   1024\u001b[0m \u001b[38;5;28;01melse\u001b[39;00m:\n",
            "\u001b[1;31mClientError\u001b[0m: An error occurred (AccessDenied) when calling the PutObject operation: User: arn:aws:iam::730335586066:user/ebac-igor-teste is not authorized to perform: s3:PutObject on resource: \"arn:aws:s3:::ebac-igor-teste/cotacao_aws.csv\" because no identity-based policy allows the s3:PutObject action",
            "\nDuring handling of the above exception, another exception occurred:\n",
            "\u001b[1;31mS3UploadFailedError\u001b[0m                       Traceback (most recent call last)",
            "Cell \u001b[1;32mIn[8], line 1\u001b[0m\n\u001b[1;32m----> 1\u001b[0m \u001b[43mclient\u001b[49m\u001b[38;5;241;43m.\u001b[39;49m\u001b[43mupload_file\u001b[49m\u001b[43m(\u001b[49m\u001b[43mFilename\u001b[49m\u001b[38;5;241;43m=\u001b[39;49m\u001b[38;5;124;43m'\u001b[39;49m\u001b[38;5;124;43mcotacao_aws.csv\u001b[39;49m\u001b[38;5;124;43m'\u001b[39;49m\u001b[43m,\u001b[49m\u001b[43m \u001b[49m\u001b[43mBucket\u001b[49m\u001b[38;5;241;43m=\u001b[39;49m\u001b[43mBUCKET\u001b[49m\u001b[43m,\u001b[49m\u001b[43m \u001b[49m\u001b[43mKey\u001b[49m\u001b[38;5;241;43m=\u001b[39;49m\u001b[38;5;124;43m'\u001b[39;49m\u001b[38;5;124;43mcotacao_aws.csv\u001b[39;49m\u001b[38;5;124;43m'\u001b[39;49m\u001b[43m)\u001b[49m\n",
            "File \u001b[1;32mc:\\Users\\Igor Matheus\\AppData\\Local\\Programs\\Python\\Python312\\Lib\\site-packages\\boto3\\s3\\inject.py:145\u001b[0m, in \u001b[0;36mupload_file\u001b[1;34m(self, Filename, Bucket, Key, ExtraArgs, Callback, Config)\u001b[0m\n\u001b[0;32m    110\u001b[0m \u001b[38;5;250m\u001b[39m\u001b[38;5;124;03m\"\"\"Upload a file to an S3 object.\u001b[39;00m\n\u001b[0;32m    111\u001b[0m \n\u001b[0;32m    112\u001b[0m \u001b[38;5;124;03mUsage::\u001b[39;00m\n\u001b[1;32m   (...)\u001b[0m\n\u001b[0;32m    142\u001b[0m \u001b[38;5;124;03m    transfer.\u001b[39;00m\n\u001b[0;32m    143\u001b[0m \u001b[38;5;124;03m\"\"\"\u001b[39;00m\n\u001b[0;32m    144\u001b[0m \u001b[38;5;28;01mwith\u001b[39;00m S3Transfer(\u001b[38;5;28mself\u001b[39m, Config) \u001b[38;5;28;01mas\u001b[39;00m transfer:\n\u001b[1;32m--> 145\u001b[0m     \u001b[38;5;28;01mreturn\u001b[39;00m \u001b[43mtransfer\u001b[49m\u001b[38;5;241;43m.\u001b[39;49m\u001b[43mupload_file\u001b[49m\u001b[43m(\u001b[49m\n\u001b[0;32m    146\u001b[0m \u001b[43m        \u001b[49m\u001b[43mfilename\u001b[49m\u001b[38;5;241;43m=\u001b[39;49m\u001b[43mFilename\u001b[49m\u001b[43m,\u001b[49m\n\u001b[0;32m    147\u001b[0m \u001b[43m        \u001b[49m\u001b[43mbucket\u001b[49m\u001b[38;5;241;43m=\u001b[39;49m\u001b[43mBucket\u001b[49m\u001b[43m,\u001b[49m\n\u001b[0;32m    148\u001b[0m \u001b[43m        \u001b[49m\u001b[43mkey\u001b[49m\u001b[38;5;241;43m=\u001b[39;49m\u001b[43mKey\u001b[49m\u001b[43m,\u001b[49m\n\u001b[0;32m    149\u001b[0m \u001b[43m        \u001b[49m\u001b[43mextra_args\u001b[49m\u001b[38;5;241;43m=\u001b[39;49m\u001b[43mExtraArgs\u001b[49m\u001b[43m,\u001b[49m\n\u001b[0;32m    150\u001b[0m \u001b[43m        \u001b[49m\u001b[43mcallback\u001b[49m\u001b[38;5;241;43m=\u001b[39;49m\u001b[43mCallback\u001b[49m\u001b[43m,\u001b[49m\n\u001b[0;32m    151\u001b[0m \u001b[43m    \u001b[49m\u001b[43m)\u001b[49m\n",
            "File \u001b[1;32mc:\\Users\\Igor Matheus\\AppData\\Local\\Programs\\Python\\Python312\\Lib\\site-packages\\boto3\\s3\\transfer.py:378\u001b[0m, in \u001b[0;36mS3Transfer.upload_file\u001b[1;34m(self, filename, bucket, key, callback, extra_args)\u001b[0m\n\u001b[0;32m    373\u001b[0m \u001b[38;5;66;03m# If a client error was raised, add the backwards compatibility layer\u001b[39;00m\n\u001b[0;32m    374\u001b[0m \u001b[38;5;66;03m# that raises a S3UploadFailedError. These specific errors were only\u001b[39;00m\n\u001b[0;32m    375\u001b[0m \u001b[38;5;66;03m# ever thrown for upload_parts but now can be thrown for any related\u001b[39;00m\n\u001b[0;32m    376\u001b[0m \u001b[38;5;66;03m# client error.\u001b[39;00m\n\u001b[0;32m    377\u001b[0m \u001b[38;5;28;01mexcept\u001b[39;00m ClientError \u001b[38;5;28;01mas\u001b[39;00m e:\n\u001b[1;32m--> 378\u001b[0m     \u001b[38;5;28;01mraise\u001b[39;00m S3UploadFailedError(\n\u001b[0;32m    379\u001b[0m         \u001b[38;5;124m\"\u001b[39m\u001b[38;5;124mFailed to upload \u001b[39m\u001b[38;5;132;01m{}\u001b[39;00m\u001b[38;5;124m to \u001b[39m\u001b[38;5;132;01m{}\u001b[39;00m\u001b[38;5;124m: \u001b[39m\u001b[38;5;132;01m{}\u001b[39;00m\u001b[38;5;124m\"\u001b[39m\u001b[38;5;241m.\u001b[39mformat(\n\u001b[0;32m    380\u001b[0m             filename, \u001b[38;5;124m'\u001b[39m\u001b[38;5;124m/\u001b[39m\u001b[38;5;124m'\u001b[39m\u001b[38;5;241m.\u001b[39mjoin([bucket, key]), e\n\u001b[0;32m    381\u001b[0m         )\n\u001b[0;32m    382\u001b[0m     )\n",
            "\u001b[1;31mS3UploadFailedError\u001b[0m: Failed to upload cotacao_aws.csv to ebac-igor-teste/cotacao_aws.csv: An error occurred (AccessDenied) when calling the PutObject operation: User: arn:aws:iam::730335586066:user/ebac-igor-teste is not authorized to perform: s3:PutObject on resource: \"arn:aws:s3:::ebac-igor-teste/cotacao_aws.csv\" because no identity-based policy allows the s3:PutObject action"
          ]
        }
      ],
      "source": [
        "client.upload_file(Filename='cotacao_aws.csv', Bucket=BUCKET, Key='cotacao_aws.csv')"
      ]
    }
  ],
  "metadata": {
    "colab": {
      "collapsed_sections": [],
      "name": "modulo_40_aula.ipynb",
      "provenance": [],
      "toc_visible": true
    },
    "kernelspec": {
      "display_name": "Python 3",
      "name": "python3"
    },
    "language_info": {
      "codemirror_mode": {
        "name": "ipython",
        "version": 3
      },
      "file_extension": ".py",
      "mimetype": "text/x-python",
      "name": "python",
      "nbconvert_exporter": "python",
      "pygments_lexer": "ipython3",
      "version": "3.12.3"
    }
  },
  "nbformat": 4,
  "nbformat_minor": 0
}
