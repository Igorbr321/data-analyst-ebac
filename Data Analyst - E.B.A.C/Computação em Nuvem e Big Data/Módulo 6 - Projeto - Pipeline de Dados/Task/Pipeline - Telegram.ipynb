{
  "nbformat": 4,
  "nbformat_minor": 0,
  "metadata": {
    "colab": {
      "provenance": [],
      "collapsed_sections": [
        "JG1HL69-j0lH",
        "s_Dj-BgThLg5",
        "jeEzLmuRhDQy",
        "PoTeRwlihDQ0",
        "QpMlxqRyhDQ1",
        "ov7Fg-mWhDQ1",
        "DvHPNAoPgdiG",
        "3SMp5GwjglJm",
        "e3ieQfXTgqd3",
        "L0pKWNr5fm9z",
        "DMhCpOU_gupo",
        "l3h0WP2Eg2ht",
        "rWG4Vk6XaWtf",
        "wkibgd8rB8y3",
        "IjPaJtnYE0MI",
        "2lpj1rszc--m",
        "HnWg_mhLd5gC",
        "RhqmXiHQo-is",
        "SvT9xrajLL7J",
        "91eSyA2cLLqv"
      ],
      "toc_visible": true
    },
    "kernelspec": {
      "name": "python3",
      "display_name": "Python 3"
    }
  },
  "cells": [
    {
      "cell_type": "markdown",
      "metadata": {
        "id": "KJqp9AANOCtf"
      },
      "source": [
        "<img src=\"https://raw.githubusercontent.com/andre-marcos-perez/ebac-course-utils/main/media/logo/newebac_logo_black_half.png\" alt=\"ebac-logo\">\n",
        "\n",
        "---\n",
        "\n",
        "# **Módulo** | Pipeline de Dados do Telegram I\n",
        "Caderno de **Exercícios**<br>\n",
        "Professor [André Perez](https://www.linkedin.com/in/andremarcosperez/)\n",
        "\n",
        "---"
      ]
    },
    {
      "cell_type": "markdown",
      "metadata": {
        "id": "d9jDtUbDOE1-"
      },
      "source": [
        "# **Tópicos**\n",
        "\n",
        "<ol type=\"1\">\n",
        "  <li>Contexto;</li>\n",
        "  <li>Telegram;</li>\n",
        "  <li>Dados.</li>\n",
        "</ol>"
      ]
    },
    {
      "cell_type": "markdown",
      "metadata": {
        "id": "SmoHgt-lwkpD"
      },
      "source": [
        "---"
      ]
    },
    {
      "cell_type": "markdown",
      "metadata": {
        "id": "GABI6OW8OfQ2"
      },
      "source": [
        "# **Exercícios**"
      ]
    },
    {
      "cell_type": "markdown",
      "metadata": {
        "id": "ne7Ay0HKaGSv"
      },
      "source": [
        "## 1\\. Telegram."
      ]
    },
    {
      "cell_type": "markdown",
      "metadata": {
        "id": "OQxOVktrzG9I"
      },
      "source": [
        "Replique as atividades da aula 2."
      ]
    },
    {
      "cell_type": "markdown",
      "source": [
        "1.1. Crie uma conta no **Telegram** caso não possua uma e faça o login na versão web da ferramenta através desse [link](https://web.telegram.org).\n",
        "\n",
        "![Criação do Telegram](https://raw.githubusercontent.com/Igorbr321/telegram_pipeline/refs/heads/master/telegram.png)\n"
      ],
      "metadata": {
        "id": "E69nBHvAa_O5"
      }
    },
    {
      "cell_type": "markdown",
      "source": [
        "1.2. Crie um *bot*.\n",
        "\n",
        "![Criação do bot](https://raw.githubusercontent.com/Igorbr321/telegram_pipeline/refs/heads/master/jarvis_robot.png)\n"
      ],
      "metadata": {
        "id": "R9Ils6eccOLS"
      }
    },
    {
      "cell_type": "markdown",
      "source": [
        "1.3. Crie um grupo e adicione o *bot*.\n",
        "\n",
        "![Grupo com o bot](https://raw.githubusercontent.com/Igorbr321/telegram_pipeline/refs/heads/master/robot_group.png)\n"
      ],
      "metadata": {
        "id": "8oTn1Z1Md2GQ"
      }
    },
    {
      "cell_type": "markdown",
      "source": [
        "1.4. Torne o *bot* administrador do grupo.\n",
        "\n",
        "![Bot como administrador](https://raw.githubusercontent.com/Igorbr321/telegram_pipeline/refs/heads/master/group_admin_robot.png)"
      ],
      "metadata": {
        "id": "LzXWWUWzeNxt"
      }
    },
    {
      "cell_type": "markdown",
      "source": [
        "1.5. Desabilite a opção de adicionar o *bot* a novos grupos.\n",
        "\n",
        "![Desabilitando a opção que pode adicionar o bot nos outros grupos](https://raw.githubusercontent.com/Igorbr321/telegram_pipeline/refs/heads/master/settings_robot.png)"
      ],
      "metadata": {
        "id": "_D2WT_iueaRr"
      }
    },
    {
      "cell_type": "markdown",
      "source": [
        "1.6. Envie diversos tipos de mensagens no grupo (text, imagem, arquivos, video, áudio, etc.) e as consuma utilizand a API de *bots* do **Telegram**."
      ],
      "metadata": {
        "id": "t4PyML7VUPBd"
      }
    },
    {
      "cell_type": "markdown",
      "source": [
        "> **Nota:** A documentação completa da API pode ser encontrada neste [link](https://core.telegram.org/bots/api)"
      ],
      "metadata": {
        "id": "c4MXmvWMUetr"
      }
    },
    {
      "cell_type": "code",
      "source": [
        "# Solução do item 1.6.\n",
        "\n",
        "from getpass import getpass\n",
        "\n",
        "token  = getpass('Digite o token do bot: ')"
      ],
      "metadata": {
        "id": "y3idc49neaRt",
        "colab": {
          "base_uri": "https://localhost:8080/"
        },
        "outputId": "be585296-e947-4642-a1e9-591cc5536108"
      },
      "execution_count": null,
      "outputs": [
        {
          "name": "stdout",
          "output_type": "stream",
          "text": [
            "Digite o token do bot: ··········\n"
          ]
        }
      ]
    },
    {
      "cell_type": "code",
      "source": [
        "import json\n",
        "\n",
        "base_url = 'https://api.telegram.org/bot{}'.format(token)"
      ],
      "metadata": {
        "id": "HkK2YWLRUc8r"
      },
      "execution_count": null,
      "outputs": []
    },
    {
      "cell_type": "code",
      "source": [
        "import requests\n",
        "\n",
        "response = requests.get(url='{}/getMe'.format(base_url))\n",
        "\n",
        "print(json.dumps(json.loads(response.text), indent=2))"
      ],
      "metadata": {
        "colab": {
          "base_uri": "https://localhost:8080/"
        },
        "id": "9-BQuJmfVDHz",
        "outputId": "7e85648c-d0a6-44e8-b215-b94a459c09ac"
      },
      "execution_count": null,
      "outputs": [
        {
          "output_type": "stream",
          "name": "stdout",
          "text": [
            "{\n",
            "  \"ok\": true,\n",
            "  \"result\": {\n",
            "    \"id\": 7549006195,\n",
            "    \"is_bot\": true,\n",
            "    \"first_name\": \"jarvis\",\n",
            "    \"username\": \"jarvis_br_mp_bot\",\n",
            "    \"can_join_groups\": false,\n",
            "    \"can_read_all_group_messages\": false,\n",
            "    \"supports_inline_queries\": false,\n",
            "    \"can_connect_to_business\": false,\n",
            "    \"has_main_web_app\": false\n",
            "  }\n",
            "}\n"
          ]
        }
      ]
    },
    {
      "cell_type": "code",
      "source": [
        "import requests\n",
        "\n",
        "response = requests.get(url='{}/getUpdates'.format(base_url))\n",
        "\n",
        "print(json.dumps(json.loads(response.text), indent=2))"
      ],
      "metadata": {
        "colab": {
          "base_uri": "https://localhost:8080/"
        },
        "id": "Ve0Agq5_Wg2C",
        "outputId": "df5c7d9c-1ef0-4924-a2fe-28e5cfe46bb7"
      },
      "execution_count": null,
      "outputs": [
        {
          "output_type": "stream",
          "name": "stdout",
          "text": [
            "{\n",
            "  \"ok\": true,\n",
            "  \"result\": [\n",
            "    {\n",
            "      \"update_id\": 173435757,\n",
            "      \"message\": {\n",
            "        \"message_id\": 5,\n",
            "        \"from\": {\n",
            "          \"id\": 5439340258,\n",
            "          \"is_bot\": false,\n",
            "          \"first_name\": \"Igor\",\n",
            "          \"last_name\": \"Pedro\",\n",
            "          \"language_code\": \"en\"\n",
            "        },\n",
            "        \"chat\": {\n",
            "          \"id\": -1002460651029,\n",
            "          \"title\": \"project_ebac_bot\",\n",
            "          \"type\": \"supergroup\"\n",
            "        },\n",
            "        \"date\": 1729881328,\n",
            "        \"text\": \"asdasd\"\n",
            "      }\n",
            "    },\n",
            "    {\n",
            "      \"update_id\": 173435758,\n",
            "      \"message\": {\n",
            "        \"message_id\": 6,\n",
            "        \"from\": {\n",
            "          \"id\": 5439340258,\n",
            "          \"is_bot\": false,\n",
            "          \"first_name\": \"Igor\",\n",
            "          \"last_name\": \"Pedro\",\n",
            "          \"language_code\": \"en\"\n",
            "        },\n",
            "        \"chat\": {\n",
            "          \"id\": -1002460651029,\n",
            "          \"title\": \"project_ebac_bot\",\n",
            "          \"type\": \"supergroup\"\n",
            "        },\n",
            "        \"date\": 1729942310,\n",
            "        \"text\": \"asdasd\"\n",
            "      }\n",
            "    },\n",
            "    {\n",
            "      \"update_id\": 173435759,\n",
            "      \"message\": {\n",
            "        \"message_id\": 5,\n",
            "        \"from\": {\n",
            "          \"id\": 5439340258,\n",
            "          \"is_bot\": false,\n",
            "          \"first_name\": \"Igor\",\n",
            "          \"last_name\": \"Pedro\",\n",
            "          \"language_code\": \"en\"\n",
            "        },\n",
            "        \"chat\": {\n",
            "          \"id\": 5439340258,\n",
            "          \"first_name\": \"Igor\",\n",
            "          \"last_name\": \"Pedro\",\n",
            "          \"type\": \"private\"\n",
            "        },\n",
            "        \"date\": 1729951441,\n",
            "        \"text\": \"/start\",\n",
            "        \"entities\": [\n",
            "          {\n",
            "            \"offset\": 0,\n",
            "            \"length\": 6,\n",
            "            \"type\": \"bot_command\"\n",
            "          }\n",
            "        ]\n",
            "      }\n",
            "    },\n",
            "    {\n",
            "      \"update_id\": 173435760,\n",
            "      \"message\": {\n",
            "        \"message_id\": 7,\n",
            "        \"from\": {\n",
            "          \"id\": 5439340258,\n",
            "          \"is_bot\": false,\n",
            "          \"first_name\": \"Igor\",\n",
            "          \"last_name\": \"Pedro\",\n",
            "          \"language_code\": \"pt-br\"\n",
            "        },\n",
            "        \"chat\": {\n",
            "          \"id\": -1002460651029,\n",
            "          \"title\": \"project_ebac_bot\",\n",
            "          \"type\": \"supergroup\"\n",
            "        },\n",
            "        \"date\": 1729955111,\n",
            "        \"voice\": {\n",
            "          \"duration\": 2,\n",
            "          \"mime_type\": \"audio/ogg\",\n",
            "          \"file_id\": \"AwACAgEAAyEFAASSqo4VAAMHZx0FJgkOSrAwOMAaCqOxLZKoZr8AAoEFAAIzxOhE2hbbS1a1-mc2BA\",\n",
            "          \"file_unique_id\": \"AgADgQUAAjPE6EQ\",\n",
            "          \"file_size\": 10407\n",
            "        }\n",
            "      }\n",
            "    },\n",
            "    {\n",
            "      \"update_id\": 173435761,\n",
            "      \"message\": {\n",
            "        \"message_id\": 8,\n",
            "        \"from\": {\n",
            "          \"id\": 5439340258,\n",
            "          \"is_bot\": false,\n",
            "          \"first_name\": \"Igor\",\n",
            "          \"last_name\": \"Pedro\",\n",
            "          \"language_code\": \"pt-br\"\n",
            "        },\n",
            "        \"chat\": {\n",
            "          \"id\": -1002460651029,\n",
            "          \"title\": \"project_ebac_bot\",\n",
            "          \"type\": \"supergroup\"\n",
            "        },\n",
            "        \"date\": 1729955173,\n",
            "        \"photo\": [\n",
            "          {\n",
            "            \"file_id\": \"AgACAgEAAyEFAASSqo4VAAMIZx0FZVVmEWY53rCB8nG0LrRtklwAAnetMRszxOhEig6eOP0lXdIBAAMCAANzAAM2BA\",\n",
            "            \"file_unique_id\": \"AQADd60xGzPE6ER4\",\n",
            "            \"file_size\": 1020,\n",
            "            \"width\": 67,\n",
            "            \"height\": 90\n",
            "          },\n",
            "          {\n",
            "            \"file_id\": \"AgACAgEAAyEFAASSqo4VAAMIZx0FZVVmEWY53rCB8nG0LrRtklwAAnetMRszxOhEig6eOP0lXdIBAAMCAANtAAM2BA\",\n",
            "            \"file_unique_id\": \"AQADd60xGzPE6ERy\",\n",
            "            \"file_size\": 14513,\n",
            "            \"width\": 240,\n",
            "            \"height\": 320\n",
            "          },\n",
            "          {\n",
            "            \"file_id\": \"AgACAgEAAyEFAASSqo4VAAMIZx0FZVVmEWY53rCB8nG0LrRtklwAAnetMRszxOhEig6eOP0lXdIBAAMCAAN4AAM2BA\",\n",
            "            \"file_unique_id\": \"AQADd60xGzPE6ER9\",\n",
            "            \"file_size\": 63763,\n",
            "            \"width\": 600,\n",
            "            \"height\": 800\n",
            "          },\n",
            "          {\n",
            "            \"file_id\": \"AgACAgEAAyEFAASSqo4VAAMIZx0FZVVmEWY53rCB8nG0LrRtklwAAnetMRszxOhEig6eOP0lXdIBAAMCAAN5AAM2BA\",\n",
            "            \"file_unique_id\": \"AQADd60xGzPE6ER-\",\n",
            "            \"file_size\": 82268,\n",
            "            \"width\": 960,\n",
            "            \"height\": 1280\n",
            "          }\n",
            "        ]\n",
            "      }\n",
            "    }\n",
            "  ]\n",
            "}\n"
          ]
        }
      ]
    },
    {
      "cell_type": "markdown",
      "source": [
        "## 2\\. Relatório Kaggle.\n",
        "\n",
        "\n",
        "[https://www.kaggle.com/code/igormatheuspedro/pipeline-telegram](https://www.kaggle.com/code/igormatheuspedro/pipeline-telegram)"
      ],
      "metadata": {
        "id": "kIhdrKBzo2PI"
      }
    }
  ]
}