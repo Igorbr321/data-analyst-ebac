{
  "cells": [
    {
      "cell_type": "markdown",
      "metadata": {
        "id": "KJqp9AANOCtf"
      },
      "source": [
        "<img src=\"https://raw.githubusercontent.com/andre-marcos-perez/ebac-course-utils/main/media/logo/newebac_logo_black_half.png\" alt=\"ebac-logo\">\n",
        "\n",
        "---\n",
        "\n",
        "# **Módulo** | Computação em Nuvem III\n",
        "Caderno de **Exercícios**<br>\n",
        "Professor [André Perez](https://www.linkedin.com/in/andremarcosperez/)\n",
        "\n",
        "---"
      ]
    },
    {
      "cell_type": "markdown",
      "metadata": {
        "id": "d9jDtUbDOE1-"
      },
      "source": [
        "# **Tópicos**\n",
        "\n",
        "<ol type=\"1\">\n",
        "  <li>Introdução;</li>\n",
        "  <li>Apache Spark;</li>\n",
        "  <li>Data Wrangling com Spark.</li>\n",
        "</ol>"
      ]
    },
    {
      "cell_type": "markdown",
      "metadata": {
        "id": "SmoHgt-lwkpD"
      },
      "source": [
        "---"
      ]
    },
    {
      "cell_type": "markdown",
      "metadata": {
        "id": "GABI6OW8OfQ2"
      },
      "source": [
        "# **Exercícios**"
      ]
    },
    {
      "cell_type": "markdown",
      "metadata": {
        "id": "ne7Ay0HKaGSv"
      },
      "source": [
        "## 1\\. Apache Spark"
      ]
    },
    {
      "cell_type": "markdown",
      "metadata": {
        "id": "OQxOVktrzG9I"
      },
      "source": [
        "Replique as atividades do item 2.1 e 2.2 para instalar e configurar um cluster Apache Spark na máquina virtual do Google Colab."
      ]
    },
    {
      "cell_type": "markdown",
      "metadata": {
        "id": "EvJTE2FpaGeU"
      },
      "source": [
        "## 2\\. Data Wrangling"
      ]
    },
    {
      "cell_type": "markdown",
      "metadata": {
        "id": "ISYXZbomlb1x"
      },
      "source": [
        "A base de dados presente neste [link](https://www.kaggle.com/datasets/bank-of-england/a-millennium-of-macroeconomic-data) contem dados macroeconômicos sobre o Reino Unido desde o século 13."
      ]
    },
    {
      "cell_type": "markdown",
      "metadata": {
        "id": "gw9qU6sLipWv"
      },
      "source": [
        "**2.1\\. Data**"
      ]
    },
    {
      "cell_type": "markdown",
      "metadata": {
        "id": "1hnomN0NmgFY"
      },
      "source": [
        "Faça o download dos dados utilizando a máquina virutal do Google Colab com o código abaixo."
      ]
    },
    {
      "cell_type": "code",
      "execution_count": 11,
      "metadata": {
        "id": "D7kgFvnoklGX"
      },
      "outputs": [],
      "source": [
        "!wget -q \"https://raw.githubusercontent.com/cluster-apps-on-docker/spark-standalone-cluster-on-docker/master/build/workspace/data/uk-macroeconomic-data.csv\" -O \"uk-macroeconomic-data.csv\""
      ]
    },
    {
      "cell_type": "markdown",
      "metadata": {
        "id": "b-I1dUa0iyE1"
      },
      "source": [
        "**2.2. Wrangling**"
      ]
    },
    {
      "cell_type": "markdown",
      "metadata": {
        "id": "RONWLjqgkr5B"
      },
      "source": [
        "Processe os dados para que a base de dados final apresente os valores da taxa de desemprego (`Unemployment rate`) e população (`Population (GB+NI)`) estejam ordenados por ano decrescente:"
      ]
    },
    {
      "cell_type": "markdown",
      "metadata": {
        "id": "mr-NTxnalqIm"
      },
      "source": [
        "```csv\n",
        "year,population,unemployment_rate\n",
        "...,...,...\n",
        "```"
      ]
    },
    {
      "cell_type": "markdown",
      "metadata": {
        "id": "snONpcdtlpQu"
      },
      "source": [
        "Para isso, utilize:"
      ]
    },
    {
      "cell_type": "markdown",
      "metadata": {
        "id": "nHY3jlCrkuN8"
      },
      "source": [
        " - Pandas"
      ]
    },
    {
      "cell_type": "code",
      "execution_count": 177,
      "metadata": {
        "id": "2BUN93hGkyMZ"
      },
      "outputs": [],
      "source": [
        "# Leitura dos Dados\n",
        "import pandas as pd\n",
        "\n",
        "df = pd.read_csv(\"uk-macroeconomic-data.csv\")"
      ]
    },
    {
      "cell_type": "code",
      "source": [
        "# Mudando os nomes das colunas\n",
        "df = df.rename(columns={\n",
        "    'Description': 'year',\n",
        "    'Population (GB+NI)' : 'population',\n",
        "    'Unemployment rate': 'unemployment_rate'\n",
        "    })"
      ],
      "metadata": {
        "id": "nI0Tbs4_dZrp"
      },
      "execution_count": 178,
      "outputs": []
    },
    {
      "cell_type": "code",
      "source": [
        "# Selecionando somente as colunas que vamos trabalhar\n",
        "df = df[[\"year\", \"population\", \"unemployment_rate\"]]"
      ],
      "metadata": {
        "id": "zOQUqtS3dTba"
      },
      "execution_count": 179,
      "outputs": []
    },
    {
      "cell_type": "code",
      "source": [
        "# Para remoção dos valores nulos, preciso jogar os dados das colunas para int ou float\n",
        "df.info()"
      ],
      "metadata": {
        "colab": {
          "base_uri": "https://localhost:8080/"
        },
        "id": "-yCFw9iv054q",
        "outputId": "d3444a24-2023-4352-9f71-76e8b929618d"
      },
      "execution_count": 180,
      "outputs": [
        {
          "output_type": "stream",
          "name": "stdout",
          "text": [
            "<class 'pandas.core.frame.DataFrame'>\n",
            "RangeIndex: 841 entries, 0 to 840\n",
            "Data columns (total 3 columns):\n",
            " #   Column             Non-Null Count  Dtype \n",
            "---  ------             --------------  ----- \n",
            " 0   year               809 non-null    object\n",
            " 1   population         318 non-null    object\n",
            " 2   unemployment_rate  163 non-null    object\n",
            "dtypes: object(3)\n",
            "memory usage: 19.8+ KB\n"
          ]
        }
      ]
    },
    {
      "cell_type": "code",
      "source": [
        "# Separando a primeira a linha do data frame\n",
        "df_description = df[df['year'] == 'Units']\n",
        "print('Após df_description:')\n",
        "print(df_description)"
      ],
      "metadata": {
        "colab": {
          "base_uri": "https://localhost:8080/"
        },
        "id": "OBJ2Tye9f_DT",
        "outputId": "3a8088a7-0e22-41d6-f551-37f6401f10ec"
      },
      "execution_count": 181,
      "outputs": [
        {
          "output_type": "stream",
          "name": "stdout",
          "text": [
            "Após df_description:\n",
            "    year population unemployment_rate\n",
            "0  Units       000s                 %\n"
          ]
        }
      ]
    },
    {
      "cell_type": "markdown",
      "metadata": {
        "id": "yswaBr3JkxHq"
      },
      "source": [
        " - PySpark"
      ]
    },
    {
      "cell_type": "code",
      "execution_count": 1,
      "metadata": {
        "id": "7aBs48QqVLIV"
      },
      "outputs": [],
      "source": [
        "%%capture\n",
        "!wget -q https://dlcdn.apache.org/spark/spark-3.5.3/spark-3.5.3-bin-hadoop3.tgz\n",
        "!tar xf spark-3.5.3-bin-hadoop3.tgz && rm spark-3.5.3-bin-hadoop3.tgz\n"
      ]
    },
    {
      "cell_type": "code",
      "source": [
        "%%capture\n",
        "!apt-get remove openjdk*\n",
        "!apt-get update --fix-missing\n",
        "!apt-get install openjdk-21-jdk-headless -qq > /dev/null"
      ],
      "metadata": {
        "id": "BLzdHnXTbUFc"
      },
      "execution_count": 53,
      "outputs": []
    },
    {
      "cell_type": "code",
      "source": [
        "!pip install -q pyspark==3.5.3"
      ],
      "metadata": {
        "id": "1vNHqWWCbtWF"
      },
      "execution_count": 3,
      "outputs": []
    },
    {
      "cell_type": "code",
      "source": [
        "import os\n",
        "\n",
        "os.environ[\"JAVA_HOME\"] = \"/usr/lib/jvm/java-21-openjdk-amd64\"\n",
        "os.environ[\"SPARK_HOME\"] = \"/content/spark-3.5.3-bin-hadoop3\""
      ],
      "metadata": {
        "id": "o0qCGEGscKUr"
      },
      "execution_count": 8,
      "outputs": []
    },
    {
      "cell_type": "code",
      "source": [
        "!pip install -q findspark"
      ],
      "metadata": {
        "id": "VkpqatPXcSwK"
      },
      "execution_count": 5,
      "outputs": []
    },
    {
      "cell_type": "code",
      "source": [
        "import findspark\n",
        "\n",
        "findspark.init()"
      ],
      "metadata": {
        "id": "blk_-7I1cX4V"
      },
      "execution_count": 6,
      "outputs": []
    },
    {
      "cell_type": "code",
      "source": [
        "from pyspark.sql import SparkSession\n",
        "\n",
        "spark = SparkSession.builder.master(\"local[*]\").appName(\"pyspark-notebook\").getOrCreate()"
      ],
      "metadata": {
        "id": "lw8CIVQcQRWg"
      },
      "execution_count": 119,
      "outputs": []
    },
    {
      "cell_type": "code",
      "source": [
        "data = spark.createDataFrame(df)\n",
        "data_description = spark.createDataFrame(df_description)\n",
        "\n",
        "print('Antes de apagar a primeira linha: {}'.format(data.count()))"
      ],
      "metadata": {
        "id": "PaHtQWrNQWbE",
        "colab": {
          "base_uri": "https://localhost:8080/"
        },
        "outputId": "fe631a91-9f54-4d3d-9ac8-d40ef3dea060"
      },
      "execution_count": 182,
      "outputs": [
        {
          "output_type": "stream",
          "name": "stdout",
          "text": [
            "Antes de apagar a primeira linha: 841\n"
          ]
        }
      ]
    },
    {
      "cell_type": "code",
      "source": [
        "from pyspark.sql.functions import broadcast\n",
        "from pyspark.sql.functions import col"
      ],
      "metadata": {
        "id": "exHv40CQvxws"
      },
      "execution_count": 196,
      "outputs": []
    },
    {
      "cell_type": "code",
      "source": [
        "data = data.join(other=broadcast(data_description), on=['year'], how='left_anti')\n",
        "\n",
        "print('Após apagar a primeira linha: {}'.format(data.count()))"
      ],
      "metadata": {
        "colab": {
          "base_uri": "https://localhost:8080/"
        },
        "id": "WQzDr2J_gN66",
        "outputId": "4e7e3aab-4578-4c7c-e0ab-c45a04b8dcd1"
      },
      "execution_count": 184,
      "outputs": [
        {
          "output_type": "stream",
          "name": "stdout",
          "text": [
            "Após apagar a primeira linha: 840\n"
          ]
        }
      ]
    },
    {
      "cell_type": "code",
      "source": [
        "# Os dados das colunas estão como string, sendo necessário mudar para remover os valores nulos\n",
        "data.printSchema()"
      ],
      "metadata": {
        "colab": {
          "base_uri": "https://localhost:8080/"
        },
        "id": "tIvJ0z2WzUfD",
        "outputId": "d98299e2-7378-41e0-ef0d-aeca547735fe"
      },
      "execution_count": 158,
      "outputs": [
        {
          "output_type": "stream",
          "name": "stdout",
          "text": [
            "root\n",
            " |-- year: string (nullable = true)\n",
            " |-- population: string (nullable = true)\n",
            " |-- unemployment_rate: string (nullable = true)\n",
            "\n"
          ]
        }
      ]
    },
    {
      "cell_type": "code",
      "source": [
        "data = data.withColumn('population', col('population').cast('float'))\n",
        "data = data.withColumn('unemployment_rate', col('unemployment_rate').cast('float'))"
      ],
      "metadata": {
        "id": "rENwU_1Pz7mo"
      },
      "execution_count": 185,
      "outputs": []
    },
    {
      "cell_type": "code",
      "source": [
        "data = data.dropna(subset=['year', 'population', 'unemployment_rate'])"
      ],
      "metadata": {
        "id": "ib0HXWezv23p"
      },
      "execution_count": 186,
      "outputs": []
    },
    {
      "cell_type": "code",
      "source": [
        "data_sorted = data.orderBy(col('year').desc())"
      ],
      "metadata": {
        "id": "JVMqkxhA17m4"
      },
      "execution_count": 194,
      "outputs": []
    },
    {
      "cell_type": "code",
      "source": [
        "data_sorted.write.csv(path ='uk-macroeconomic-data-clean.csv', sep=',', header=True, mode='overwrite')"
      ],
      "metadata": {
        "id": "A0Cghib-2uVN"
      },
      "execution_count": 195,
      "outputs": []
    }
  ],
  "metadata": {
    "colab": {
      "provenance": [],
      "toc_visible": true
    },
    "kernelspec": {
      "display_name": "Python 3",
      "name": "python3"
    },
    "language_info": {
      "codemirror_mode": {
        "name": "ipython",
        "version": 3
      },
      "file_extension": ".py",
      "mimetype": "text/x-python",
      "name": "python",
      "nbconvert_exporter": "python",
      "pygments_lexer": "ipython3",
      "version": "3.12.3"
    }
  },
  "nbformat": 4,
  "nbformat_minor": 0
}