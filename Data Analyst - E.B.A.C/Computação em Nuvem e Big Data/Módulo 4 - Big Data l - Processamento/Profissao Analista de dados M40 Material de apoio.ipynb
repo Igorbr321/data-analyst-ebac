{
  "cells": [
    {
      "cell_type": "markdown",
      "metadata": {
        "id": "KJqp9AANOCtf"
      },
      "source": [
        "<img src=\"https://raw.githubusercontent.com/andre-marcos-perez/ebac-course-utils/main/media/logo/newebac_logo_black_half.png\" alt=\"ebac-logo\">\n",
        "\n",
        "---\n",
        "\n",
        "# **Módulo** | Big Data I - Processamento\n",
        "Caderno de **Aula**<br> \n",
        "Professor [André Perez](https://www.linkedin.com/in/andremarcosperez/)\n",
        "\n",
        "---"
      ]
    },
    {
      "cell_type": "markdown",
      "metadata": {
        "id": "d9jDtUbDOE1-"
      },
      "source": [
        "# **Tópicos**\n",
        "\n",
        "<ol type=\"1\">\n",
        "  <li>Introdução;</li>\n",
        "  <li>Apache Spark;</li>\n",
        "  <li>Data Wrangling com Spark.</li>\n",
        "</ol>"
      ]
    },
    {
      "cell_type": "markdown",
      "metadata": {
        "id": "SmoHgt-lwkpD"
      },
      "source": [
        "---"
      ]
    },
    {
      "cell_type": "markdown",
      "metadata": {
        "id": "GABI6OW8OfQ2"
      },
      "source": [
        "# **Aulas**"
      ]
    },
    {
      "cell_type": "markdown",
      "metadata": {
        "id": "-Rig-cljwJdi"
      },
      "source": [
        "## 1\\. Introdução"
      ]
    },
    {
      "cell_type": "markdown",
      "metadata": {
        "id": "Ay4UkojwGskg"
      },
      "source": [
        "### **1.1. Big data** "
      ]
    },
    {
      "cell_type": "markdown",
      "metadata": {
        "id": "JUonSt7kxZyj"
      },
      "source": [
        "*Big data* é um termo que geralmente representa um conjunto de dados muito grande, complexo e de difícil processamento. Apesar do apelo comercial, o termo pouco contribui para a definição de um problema com o volume de dados pois:"
      ]
    },
    {
      "cell_type": "markdown",
      "metadata": {
        "id": "y9PqivD6_u78"
      },
      "source": [
        " - tamanho é relativo, um problema de processamento em um computador pode não ser para outro que contenha mais recursos (RAM, CPU, etc.);\n",
        " - tamanho não é o único desafio moderno no processamento de dados: a variedade do tipo dos dados e a velocidade com que são produzidos somam-se a essa complexidade;\n",
        " - etc."
      ]
    },
    {
      "cell_type": "markdown",
      "metadata": {
        "id": "9YhdREnYxZyj"
      },
      "source": [
        "### **1.2. 3vs: Volume, variedade e velocidade** "
      ]
    },
    {
      "cell_type": "markdown",
      "metadata": {
        "id": "VHNT6j-IxZyk"
      },
      "source": [
        "A criação da *internet* (1990s) e a sua democratização através da adoção em massa de computadores pessoais (2000s), *smartphones* (2010s) e dispositivos da *internet* das coisas (2010s), trouxe diversos novos desafios para o ecossistema de dados em três frentes: **volume**, **variedade** e **velocidade**."
      ]
    },
    {
      "cell_type": "markdown",
      "metadata": {
        "id": "UsO_C7glvGGF"
      },
      "source": [
        " - **Volume**: os recursos de um sistema computacional não são suficientes para processar um determinado volume de dados em uma determinada janela de de tempo / tamanho dos dados representa frações da memória do computador (décimos, etc.). Via de regra, arquivos com mais de 100 MB de tamanho são problemáticos para serem processados em computadores tradicionais."
      ]
    },
    {
      "cell_type": "markdown",
      "metadata": {
        "id": "6dhaMIBfwGhI"
      },
      "source": [
        " > **Exemplo**: um arquivo de texto (txt) de *log* de acesso de usuários a um *website* facilmente atinge 100 MB de tamanho em poucos dias. Com esse arquivo é possível responder perguntas de negócio como: Qual é o período do dia/semana/mês/ano com mais acessos? Qual o tempo médio da etapa de *login*? Qual a taxa de erro de acesso por dia/semana/mês?"
      ]
    },
    {
      "cell_type": "markdown",
      "metadata": {
        "id": "ZANjG6oHxJVZ"
      },
      "source": [
        " - **Variedade**: as fontes de dados modernas armazenam e disponibilizam dados em diversos formatos. Somaram-se aos tradicionais bancos de dados relacionais (SQL) diferentes formatos de arquivos de arquivos (csv, json, txt, html, pdf, jpeg, png, etc.), bases de dados não relacionais (NoSQL ou dados semi/não estruturados), APIs (json), etc."
      ]
    },
    {
      "cell_type": "markdown",
      "metadata": {
        "id": "Xfd4NWoGxJVc"
      },
      "source": [
        " > **Exemplo**: os sites dos tribunais de justiça dos estados publicam diariamente o andamento dos processos judiciais que tramitam na segunda instância em arquivos do tipo `pdf`. Como fazer para extrair e armazenar estes arquivos diariamente? Como extrair o número e o *status* do processo do documento?"
      ]
    },
    {
      "cell_type": "markdown",
      "metadata": {
        "id": "ikOp0k9O64jA"
      },
      "source": [
        " - **Velocidade**: processamento de dados em lote (*batch*) já não atende mais as necessidades do negócio. Dispositivos permanecem conectados as redes de computadores (*internet*, *internet* móvel, etc.) o tempo todo, logo, continuamente produzindo dados."
      ]
    },
    {
      "cell_type": "markdown",
      "metadata": {
        "id": "thcxtgw664jH"
      },
      "source": [
        " > **Exemplo**: um *e-commerce* registra os *clicks* de um usuário enquanto este navega pelo seu *website*. Com este dados e com o histórico do usuário, seria possível disponibilizar um cupom de desconto para que o usuário não deixe o *website* sem finalizar uma compra? Qual o melhor momento para enviar o cupom?"
      ]
    },
    {
      "cell_type": "markdown",
      "metadata": {
        "id": "PnJI1bszxZyk"
      },
      "source": [
        "### **1.2. Computação distribuída e paralela** "
      ]
    },
    {
      "cell_type": "markdown",
      "metadata": {
        "id": "8OGjIWy9xZyk"
      },
      "source": [
        "A estratégia para lidar com o aumento da demanda por recursos para processamento de dados sempre foi a de melhoria do *hardware* de **um mesmo  computador**: mais memória, mais velocidade de processamento, etc. Contudo, após os anos 2000s, a demanda cresceu em um ritmo muito mais acelerado se comparado a capacidade de melhoria de *hardware*. E dessa necessidade nasceu uma nova arquitetura de computadores e um novo paradigma de computação: *clusters* de computadores (**múltiplos computadores**) e computação distribuída e paralela, respectivamente."
      ]
    },
    {
      "cell_type": "markdown",
      "metadata": {
        "id": "so8nVIRsobiF"
      },
      "source": [
        " - Arquitetura"
      ]
    },
    {
      "cell_type": "markdown",
      "metadata": {
        "id": "ID37vkQECLu6"
      },
      "source": [
        "Um *cluster* é um conjunto de computadores (mesmas configurações, idealmente mesmo *hardware*, etc.) conectados em uma rede privada. Um gerenciador de *cluster* (*cluster manager*) é uma aplicação que orquestra as atividades de armazenamento e processamento de dados distribuído e paralelo, abstraindo a complexidade para usuários e aplicações. Os gerenciadores de *cluster* mais utilizados são o [Apache Hadoop](https://hadoop.apache.org) e o [Kubernetes](https://kubernetes.io)."
      ]
    },
    {
      "cell_type": "markdown",
      "metadata": {
        "id": "XK2lQv-ICP0B"
      },
      "source": [
        "> Computadores de um *cluster* são conhecidos como nós."
      ]
    },
    {
      "cell_type": "markdown",
      "metadata": {
        "id": "PKhTGukRoecY"
      },
      "source": [
        " - Armazenamento"
      ]
    },
    {
      "cell_type": "markdown",
      "metadata": {
        "id": "yAexqnvsL4-N"
      },
      "source": [
        "Dados são armazenados em arquivos (`csv`, `txt`, `parquet`, etc.) e são \"quebrados\" em blocos (128 MB geralmente), distribuídos e replicados (três vezes geralmente) nos nós. O gerenciador de *cluster* mantém um mapa da distribuição dos blocos."
      ]
    },
    {
      "cell_type": "markdown",
      "metadata": {
        "id": "11BSwM_fogdh"
      },
      "source": [
        " - Processamento"
      ]
    },
    {
      "cell_type": "markdown",
      "metadata": {
        "id": "rg18G89pL68i"
      },
      "source": [
        "Existem algumas maneiras de se processador dados distribuídos. Uma das maneiras mais eficiente é enviar a operação de processamento (agregações como soma, por exemplo) para o nó em que o dado está armazenado, realizar o processamento localizado e coletar apenas os resultados."
      ]
    },
    {
      "cell_type": "markdown",
      "metadata": {
        "id": "EpWQdsKZC-_a"
      },
      "source": [
        " > **Nota**: Operações de junção (joins) constumam ser caras (em termos de tempo de processamento e consumo de memória) pois blocos inteiros de dados devem trafegar pela rede de um nó para o outro."
      ]
    },
    {
      "cell_type": "markdown",
      "metadata": {
        "id": "EvJTE2FpaGeU"
      },
      "source": [
        "## 2\\. Apache Spark"
      ]
    },
    {
      "cell_type": "markdown",
      "metadata": {
        "id": "ISYXZbomlb1x"
      },
      "source": [
        "[Spark](https://spark.apache.org) é um motor de processamento de dados para engenharia, análise e ciência de dados otimizado para *clusters* de computadores. Permite que operações comuns no processamento de dados como seleção de colunas, filtros e *joins* sejam feitas de utilizando o paradigma de computação distribuída e paralela através de APIs de alto nível disponível em diversas linguagens.\n",
        "\n"
      ]
    },
    {
      "cell_type": "markdown",
      "metadata": {
        "id": "Ggz79pBx93je"
      },
      "source": [
        "\n",
        "\n",
        "<img src=\"https://spark.apache.org/docs/latest/img/cluster-overview.png\" alt=\"spark-cluster\">"
      ]
    },
    {
      "cell_type": "markdown",
      "metadata": {
        "id": "hc2HFEvv8gYG"
      },
      "source": [
        "O Spark divide as operações em **transformações** (`filter`, `select`, `withColumn`, etc.) e **ações** (`read.csv`, `write.csv`, etc.). Operações de **transformação** são encadeadas até que uma operação de **ação** seja executada, fazendo com que todas as operações sejam executadas de uma vez. Essa característica é conhecida como *lazy evaluation*."
      ]
    },
    {
      "cell_type": "markdown",
      "metadata": {
        "id": "fsugU0WBjghG"
      },
      "source": [
        "> **Nota**: Em geral, a instalação (item 2.1) e configuração (item 2.2) de um *cluster* Spark é feito por especialistas, como uma pessoa engenheira de dados. É comum uma pessoa analista/cientista de dados começar a interagir com um *cluster* Spark a partir do item 2.3."
      ]
    },
    {
      "cell_type": "markdown",
      "metadata": {
        "id": "D4DlkVZCkYBP"
      },
      "source": [
        "> **Nota**: O [AWS EMR](https://aws.amazon.com/pt/emr/) (*elastic map reduce*) fornece *clusters* com gerenciador Apache Hadoop e com o Apache Spark instalado. Preço computado sobre a hora dos nós, máquinas virtuais do [AWS EC2](https://aws.amazon.com/pt/ec2/)."
      ]
    },
    {
      "cell_type": "markdown",
      "metadata": {
        "id": "EhKOYuGqLMSo"
      },
      "source": [
        "### **2.1. Instalação**"
      ]
    },
    {
      "cell_type": "markdown",
      "metadata": {
        "id": "_MlzEchdu0cP"
      },
      "source": [
        "Spark é uma aplicação desenvolvida na linguagem de programação [Scala](https://www.scala-lang.org), que funciona em uma máquina virtual [Java](https://www.java.com/) (JVM). Por isso, é necessário fazer o *download* da aplicação e instalar o Java em todas as máquinas (nós) do *cluster*."
      ]
    },
    {
      "cell_type": "markdown",
      "metadata": {
        "id": "Wui-si_DfkcT"
      },
      "source": [
        " - Download do Spark, versão 3.0.0."
      ]
    },
    {
      "cell_type": "code",
      "execution_count": null,
      "metadata": {
        "id": "8a_Yv59zg3gm"
      },
      "outputs": [],
      "source": [
        "%%capture\n",
        "!wget -q https://archive.apache.org/dist/spark/spark-3.0.0/spark-3.0.0-bin-hadoop2.7.tgz\n",
        "!tar xf spark-3.0.0-bin-hadoop2.7.tgz && rm spark-3.0.0-bin-hadoop2.7.tgz"
      ]
    },
    {
      "cell_type": "markdown",
      "metadata": {
        "id": "pDzIx14Ufv0U"
      },
      "source": [
        " - Download e instalação do Java, versão 8."
      ]
    },
    {
      "cell_type": "code",
      "execution_count": null,
      "metadata": {
        "id": "NXls3bfoglKW"
      },
      "outputs": [],
      "source": [
        "%%capture\n",
        "!apt-get remove openjdk*\n",
        "!apt-get update --fix-missing\n",
        "!apt-get install openjdk-8-jdk-headless -qq > /dev/null"
      ]
    },
    {
      "cell_type": "markdown",
      "metadata": {
        "id": "2VlE66tTgBso"
      },
      "source": [
        "Mesmo sendo uma aplicação Scala, o Spark disponibiliza APIs de integração em diversas linguagens de programação. O pacote Python [PySpark](https://pypi.org/project/pyspark/) é a API para Python. Com ele, é possível interagir com o Spark como se fosse uma aplicação Python nativa. A API é similar ao pacote Pandas e sua documentação pode ser encontrada neste [link](https://spark.apache.org/docs/latest/api/python/)."
      ]
    },
    {
      "cell_type": "markdown",
      "metadata": {
        "id": "0_QZG1l-jKHF"
      },
      "source": [
        "> **Nota**: a versão do PySpark deve ser a mesma que a versão da aplicação Spark."
      ]
    },
    {
      "cell_type": "code",
      "execution_count": null,
      "metadata": {
        "id": "5oSYOwKljPf5"
      },
      "outputs": [],
      "source": [
        "!pip install -q pyspark==3.0.0"
      ]
    },
    {
      "cell_type": "markdown",
      "metadata": {
        "id": "pnxYnr6flb1y"
      },
      "source": [
        "### **2.2. Configuração** "
      ]
    },
    {
      "cell_type": "markdown",
      "metadata": {
        "id": "NY8c3fEWlb1y"
      },
      "source": [
        "Na etapa de configuração, é necessário configurar as máquinas (nós) do *cluster* para que tanto a aplicação do Spark quanto a instalação do Java possam ser encontrados pelo PySpark e, consequentemente, pelo Python. Para isso, basta preencher as variáveis de ambiente `JAVA_HOME` e `SPARK_HOME` com o seus respectivos caminhos de instalação."
      ]
    },
    {
      "cell_type": "code",
      "execution_count": null,
      "metadata": {
        "id": "iZpR7NwOh2EB"
      },
      "outputs": [],
      "source": [
        "import os\n",
        "\n",
        "os.environ[\"JAVA_HOME\"] = \"/usr/lib/jvm/java-8-openjdk-amd64\"\n",
        "os.environ[\"SPARK_HOME\"] = \"/content/spark-3.0.0-bin-hadoop2.7\""
      ]
    },
    {
      "cell_type": "markdown",
      "metadata": {
        "id": "dIygkGUzmqjl"
      },
      "source": [
        "Por fim, para conectar o PySpark (e o Python) ao Spark e ao Java, pode-se utilizar o pacote Python [FindSpark](https://pypi.org/project/findspark/)."
      ]
    },
    {
      "cell_type": "code",
      "execution_count": null,
      "metadata": {
        "id": "Cg1V2D4IlcDG"
      },
      "outputs": [],
      "source": [
        "!pip install -q findspark==1.4.2"
      ]
    },
    {
      "cell_type": "markdown",
      "metadata": {
        "id": "SyFGPWZclc-X"
      },
      "source": [
        "O método `init()` injeta as variáveis de ambiente `JAVA_HOME` e `SPARK_HOME` no ambiente de execução Python, permitindo assim a correta conexão entre o pacote PySpark com aplicação Spark."
      ]
    },
    {
      "cell_type": "code",
      "execution_count": 1,
      "metadata": {
        "id": "9fUZWhtNls9Q"
      },
      "outputs": [],
      "source": [
        "import findspark\n",
        "\n",
        "findspark.init()"
      ]
    },
    {
      "cell_type": "markdown",
      "metadata": {
        "id": "h_7ULt6Wlb1z"
      },
      "source": [
        "### **2.3. Conexão** "
      ]
    },
    {
      "cell_type": "markdown",
      "metadata": {
        "id": "GUgbxTWaPGV0"
      },
      "source": [
        "Com o *cluster* devidamente configurado, vamos criar uma aplicação Spark. O objeto `SparkSession` do pacote PySpark (e seu atributo `builder`) auxiliam na criação da aplicação:\n",
        "\n",
        " - `master`: endereço (local ou remoto) do *cluster*;\n",
        " - `appName`: nome da aplicação;\n",
        " - `getOrCreate`: método que de fato cria os recursos e instância a aplicação."
      ]
    },
    {
      "cell_type": "code",
      "execution_count": null,
      "metadata": {
        "id": "9TxljJ_cwBCy"
      },
      "outputs": [],
      "source": [
        "from pyspark.sql import SparkSession\n",
        "\n",
        "spark = SparkSession.builder.master(\"local[*]\").appName(\"pyspark-notebook\").getOrCreate()"
      ]
    },
    {
      "cell_type": "markdown",
      "metadata": {
        "id": "KMKEZbMlSVGX"
      },
      "source": [
        "Com o objeto `SparkSession` devidamente instanciado, podemos começar a interagir com os dados utilizando os recursos do *cluster* através de uma estrutura de dados que já conhecemos: `DataFrames`:"
      ]
    },
    {
      "cell_type": "code",
      "execution_count": null,
      "metadata": {
        "id": "MzzGeUmCcixf"
      },
      "outputs": [],
      "source": [
        "!wget -q \"https://raw.githubusercontent.com/cluster-apps-on-docker/spark-standalone-cluster-on-docker/master/build/workspace/data/uk-macroeconomic-data.csv\" -O \"uk-macroeconomic-data.csv\""
      ]
    },
    {
      "cell_type": "code",
      "execution_count": null,
      "metadata": {
        "id": "YjyNGZHnqKUU"
      },
      "outputs": [],
      "source": [
        "data = spark.read.csv(path=\"uk-macroeconomic-data.csv\", sep=\",\", header=True)"
      ]
    },
    {
      "cell_type": "code",
      "execution_count": null,
      "metadata": {
        "id": "I-_bVdugS-T3"
      },
      "outputs": [],
      "source": [
        "data.show()"
      ]
    },
    {
      "cell_type": "code",
      "execution_count": null,
      "metadata": {
        "id": "El4HVFmxTUiA"
      },
      "outputs": [],
      "source": [
        "data.printSchema()"
      ]
    },
    {
      "cell_type": "markdown",
      "metadata": {
        "id": "oVejInuPakz5"
      },
      "source": [
        "## 3\\. Data Wrangling"
      ]
    },
    {
      "cell_type": "markdown",
      "metadata": {
        "id": "POlvHFptrQFE"
      },
      "source": [
        "Vamos utilizar a API Python do Spark, o pacote PySpark, para limpar os dados da aula 2."
      ]
    },
    {
      "cell_type": "markdown",
      "metadata": {
        "id": "ILiYqGpzGxL3"
      },
      "source": [
        "> **Nota**: Atente-se sempre a natureza distribuída das operações. "
      ]
    },
    {
      "cell_type": "markdown",
      "metadata": {
        "id": "qNz6f1-6mDB0"
      },
      "source": [
        "### **3.1. Exploração**"
      ]
    },
    {
      "cell_type": "code",
      "execution_count": null,
      "metadata": {
        "id": "wMDjNrzCrR-Y"
      },
      "outputs": [],
      "source": [
        "data.count()"
      ]
    },
    {
      "cell_type": "code",
      "execution_count": null,
      "metadata": {
        "id": "Y5NuGUZmdkpM"
      },
      "outputs": [],
      "source": [
        "data.columns"
      ]
    },
    {
      "cell_type": "code",
      "execution_count": null,
      "metadata": {
        "id": "GHO3JIuXFUt8"
      },
      "outputs": [],
      "source": [
        "len(data.columns)"
      ]
    },
    {
      "cell_type": "markdown",
      "metadata": {
        "id": "nGD63S7KreZf"
      },
      "source": [
        "### **3.2. Limpeza**"
      ]
    },
    {
      "cell_type": "markdown",
      "metadata": {
        "id": "_BWlK9ObSFA-"
      },
      "source": [
        "O método `select` seleciona colunas do `DataFrame`. Já o método `withColumnRenamed` renomeia colunas."
      ]
    },
    {
      "cell_type": "code",
      "execution_count": null,
      "metadata": {
        "id": "kr0cfKzxraf-"
      },
      "outputs": [],
      "source": [
        "data = data.select([\"Description\", \"Population (GB+NI)\", \"Unemployment rate\"])"
      ]
    },
    {
      "cell_type": "code",
      "execution_count": null,
      "metadata": {
        "id": "daszUPqcr0D7"
      },
      "outputs": [],
      "source": [
        "data = data.\\\n",
        "  withColumnRenamed(\"Description\", 'year').\\\n",
        "  withColumnRenamed(\"Population (GB+NI)\", \"population\").\\\n",
        "  withColumnRenamed(\"Unemployment rate\", \"unemployment_rate\")"
      ]
    },
    {
      "cell_type": "code",
      "execution_count": null,
      "metadata": {
        "id": "ITbmLD5grioS"
      },
      "outputs": [],
      "source": [
        "data.show(n=10)"
      ]
    },
    {
      "cell_type": "markdown",
      "metadata": {
        "id": "qjflPLf3R5XP"
      },
      "source": [
        "O método `filter` seleciona linhas do `DataFrame` baseado no conteúdo de uma coluna."
      ]
    },
    {
      "cell_type": "code",
      "execution_count": null,
      "metadata": {
        "id": "Lc7l4RbCri-s"
      },
      "outputs": [],
      "source": [
        "data_description = data.filter(data['year'] == 'Units')"
      ]
    },
    {
      "cell_type": "code",
      "execution_count": null,
      "metadata": {
        "id": "lnViipaTrn1Y"
      },
      "outputs": [],
      "source": [
        "data_description.show(n=10)"
      ]
    },
    {
      "cell_type": "markdown",
      "metadata": {
        "id": "J5MaetaA5yN8"
      },
      "source": [
        "### **3.3. Junção**"
      ]
    },
    {
      "cell_type": "code",
      "execution_count": null,
      "metadata": {
        "id": "bmJ-9j-Z5JTu"
      },
      "outputs": [],
      "source": [
        "(data.count(), len(data.columns))"
      ]
    },
    {
      "cell_type": "code",
      "execution_count": null,
      "metadata": {
        "id": "4-wev7wj5plc"
      },
      "outputs": [],
      "source": [
        "(data_description.count(), len(data_description.columns))"
      ]
    },
    {
      "cell_type": "markdown",
      "metadata": {
        "id": "UnnMzkV1Rd41"
      },
      "source": [
        "O método `join` faz a junção distribuída de dois `DataFrames`. Já o método `broadcast` \"marca\" um `DataFrame` como \"pequeno\" e força o Spark a trafega-lo pela rede."
      ]
    },
    {
      "cell_type": "code",
      "execution_count": null,
      "metadata": {
        "id": "umbjFEHU4706"
      },
      "outputs": [],
      "source": [
        "from pyspark.sql.functions import broadcast"
      ]
    },
    {
      "cell_type": "code",
      "execution_count": null,
      "metadata": {
        "id": "x2iVm1DHrqdq"
      },
      "outputs": [],
      "source": [
        "data = data.join(other=broadcast(data_description), on=['year'], how='left_anti')"
      ]
    },
    {
      "cell_type": "code",
      "execution_count": null,
      "metadata": {
        "id": "9Y57q9GYru-K"
      },
      "outputs": [],
      "source": [
        "data.show(n=10)"
      ]
    },
    {
      "cell_type": "markdown",
      "metadata": {
        "id": "Xjvd_8hXQ3ny"
      },
      "source": [
        "O método `dropna` remove todas as linhas que apresentarem ao menos um valor nulo."
      ]
    },
    {
      "cell_type": "code",
      "execution_count": null,
      "metadata": {
        "id": "cSdhEE6UryO1"
      },
      "outputs": [],
      "source": [
        "data = data.dropna()"
      ]
    },
    {
      "cell_type": "code",
      "execution_count": null,
      "metadata": {
        "id": "yPCQdpijr1vE"
      },
      "outputs": [],
      "source": [
        "data.show(n=10)"
      ]
    },
    {
      "cell_type": "markdown",
      "metadata": {
        "id": "ZN4BeYx7QkEv"
      },
      "source": [
        "O método `withColumn` ajuda a criar novas colunas."
      ]
    },
    {
      "cell_type": "code",
      "execution_count": null,
      "metadata": {
        "id": "Ul8y_Z3LL8p4"
      },
      "outputs": [],
      "source": [
        "data = data.withColumn('century', 1 + (data['year']/100).cast('int'))"
      ]
    },
    {
      "cell_type": "code",
      "execution_count": null,
      "metadata": {
        "id": "O-d2iGfgO-z_"
      },
      "outputs": [],
      "source": [
        "data.select(['century', 'year']).groupBy('century').agg({'year': 'count'}).show()"
      ]
    },
    {
      "cell_type": "markdown",
      "metadata": {
        "id": "vdIqbFPqQphM"
      },
      "source": [
        "O método `collect` é uma ação que coleta os resultados dos nós e retorna para o Python."
      ]
    },
    {
      "cell_type": "code",
      "execution_count": null,
      "metadata": {
        "id": "8zHObZUZQDzD"
      },
      "outputs": [],
      "source": [
        "timing = data.select(['century', 'year']).groupBy('century').agg({'year': 'count'}).collect()"
      ]
    },
    {
      "cell_type": "code",
      "execution_count": null,
      "metadata": {
        "id": "LvJQgROrQJO0"
      },
      "outputs": [],
      "source": [
        "timing"
      ]
    },
    {
      "cell_type": "code",
      "execution_count": null,
      "metadata": {
        "id": "W9iI-G-6QNQ8"
      },
      "outputs": [],
      "source": [
        "timing[0].asDict()"
      ]
    },
    {
      "cell_type": "markdown",
      "metadata": {
        "id": "yAXG0okPr4LO"
      },
      "source": [
        "### **3.4. Escrita**"
      ]
    },
    {
      "cell_type": "markdown",
      "metadata": {
        "id": "0Uw43266RAvj"
      },
      "source": [
        "O método `write.csv` persiste o `DataFrame` em formato `csv`. Já o método `repartition` controla o número de partições da escrita."
      ]
    },
    {
      "cell_type": "code",
      "execution_count": null,
      "metadata": {
        "id": "dXEY2Hbqr42f"
      },
      "outputs": [],
      "source": [
        "data.repartition('century').write.csv(path=\"uk-macroeconomic-data-clean\", sep=\",\", header=True, mode=\"overwrite\")"
      ]
    }
  ],
  "metadata": {
    "colab": {
      "collapsed_sections": [],
      "name": "modulo_41_aula.ipynb",
      "provenance": []
    },
    "kernelspec": {
      "display_name": "Python 3",
      "name": "python3"
    },
    "language_info": {
      "codemirror_mode": {
        "name": "ipython",
        "version": 3
      },
      "file_extension": ".py",
      "mimetype": "text/x-python",
      "name": "python",
      "nbconvert_exporter": "python",
      "pygments_lexer": "ipython3",
      "version": "3.12.3"
    }
  },
  "nbformat": 4,
  "nbformat_minor": 0
}
